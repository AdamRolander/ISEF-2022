{
 "cells": [
  {
   "cell_type": "code",
   "execution_count": null,
   "metadata": {},
   "outputs": [],
   "source": [
    "# Randomly rotated up to 20 degrees, either CW or CCW\n",
    "from keras.preprocessing.image import ImageDataGenerator\n",
    "\n",
    "augment = ImageDataGenerator(\n",
    "    rescale = 1./255,\n",
    "    rotation_range=20\n",
    ")"
   ]
  }
 ],
 "metadata": {
  "language_info": {
   "name": "python"
  }
 },
 "nbformat": 4,
 "nbformat_minor": 2
}
