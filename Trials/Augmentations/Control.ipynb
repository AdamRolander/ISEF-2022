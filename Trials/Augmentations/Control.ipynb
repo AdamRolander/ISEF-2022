{
 "cells": [
  {
   "cell_type": "code",
   "execution_count": null,
   "metadata": {},
   "outputs": [],
   "source": [
    "# JUST RESCALING\n",
    "from keras.preprocessing.image import ImageDataGenerator\n",
    "\n",
    "rescale = ImageDataGenerator(\n",
    "    rescale = 1./255,\n",
    ")"
   ]
  }
 ],
 "metadata": {
  "language_info": {
   "name": "python"
  }
 },
 "nbformat": 4,
 "nbformat_minor": 2
}
