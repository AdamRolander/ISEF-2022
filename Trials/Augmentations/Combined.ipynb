{
 "cells": [
  {
   "cell_type": "code",
   "execution_count": null,
   "metadata": {},
   "outputs": [],
   "source": [
    "# All methods\n",
    "from keras.preprocessing.image import ImageDataGenerator\n",
    "\n",
    "augment = ImageDataGenerator(\n",
    "    rescale = 1./255,\n",
    "    rotation_range=20,\n",
    "    width_shift_range=0.08,\n",
    "    height_shift_range=0.08,\n",
    "    zoom_range=0.12,\n",
    "    horizontal_flip=True\n",
    ")"
   ]
  }
 ],
 "metadata": {
  "language_info": {
   "name": "python"
  }
 },
 "nbformat": 4,
 "nbformat_minor": 2
}
