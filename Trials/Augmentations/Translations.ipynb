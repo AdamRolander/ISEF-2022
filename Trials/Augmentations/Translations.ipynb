{
 "cells": [
  {
   "cell_type": "code",
   "execution_count": null,
   "metadata": {},
   "outputs": [],
   "source": [
    "# Shifted randomly up to 8% of 224 pixels vertically and horizontally\n",
    "from keras.preprocessing.image import ImageDataGenerator\n",
    "\n",
    "augment = ImageDataGenerator(\n",
    "    rescale = 1./255,\n",
    "    width_shift_range=0.08,\n",
    "    height_shift_range=0.08\n",
    ")"
   ]
  }
 ],
 "metadata": {
  "language_info": {
   "name": "python"
  }
 },
 "nbformat": 4,
 "nbformat_minor": 2
}
