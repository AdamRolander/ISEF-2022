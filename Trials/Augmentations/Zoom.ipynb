{
 "cells": [
  {
   "cell_type": "code",
   "execution_count": null,
   "metadata": {},
   "outputs": [],
   "source": [
    "# Up to 12% zoom, in or our\n",
    "from keras.preprocessing.image import ImageDataGenerator\n",
    "\n",
    "augment = ImageDataGenerator(\n",
    "    rescale = 1./255,\n",
    "    zoom_range=0.12\n",
    ")"
   ]
  }
 ],
 "metadata": {
  "language_info": {
   "name": "python"
  }
 },
 "nbformat": 4,
 "nbformat_minor": 2
}
