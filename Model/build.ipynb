{
 "cells": [
  {
   "cell_type": "code",
   "execution_count": null,
   "metadata": {},
   "outputs": [],
   "source": [
    "from keras.models import Sequential,Model\n",
    "from keras.layers import MaxPooling2D,Conv2D,Dense,BatchNormalization,Dropout,GlobalAveragePooling2D,Flatten,Input, Activation\n",
    "\n",
    "# Input Image Size \n",
    "INPUT_SHAPE = (224, 224, 3)\n",
    "\n",
    "model = Sequential()\n",
    "\n",
    "## FEATURE LEARNING BLOCK ##\n",
    "# First Convolutional Layer -- Features: 128, Kernel Size: (3,3), Strides: (1,1), Padding: Valid, Activation Function: RELU, Batch Normalization\n",
    "model.add(Conv2D(128, (3, 3), input_shape=INPUT_SHAPE))\n",
    "model.add(Activation('relu'))\n",
    "model.add(MaxPooling2D(pool_size=(2, 2)))\n",
    "model.add(BatchNormalization())\n",
    "\n",
    "# Second Convolutional Layer -- Features: 64, Kernel Size: (3,3), Strides: (1,1), Padding: Valid, Activation Function: RELU, Batch Normalization\n",
    "model.add(Conv2D(64, (3, 3)))\n",
    "model.add(Activation('relu'))\n",
    "model.add(MaxPooling2D(pool_size=(2, 2)))\n",
    "model.add(BatchNormalization())\n",
    "\n",
    "# Third Convolutional Layer -- Features: 32, Kernel Size: (3,3), Strides: (1,1), Padding: Valid, Activation Function: RELU, Batch Normalization\n",
    "model.add(Conv2D(32, (3, 3)))\n",
    "model.add(Activation('relu'))\n",
    "model.add(MaxPooling2D(pool_size=(2, 2)))\n",
    "model.add(BatchNormalization())\n",
    "##################################\n",
    "\n",
    "## CONCATONATED DENSE LAYERS BLOCK ##\n",
    "# Flattening Layer\n",
    "model.add(Flatten())\n",
    "\n",
    "# First Dense Layer -- Activation Function: RELU, Dropout: 0.2\n",
    "model.add(Dense(128, activation='relu'))\n",
    "model.add(Dropout(0.2))\n",
    "\n",
    "# Second Dense Layer -- Activation Function: RELU\n",
    "model.add(Dense(64, activation='relu'))\n",
    "\n",
    "# Third Dense Layer -- Activation Function: Softmax -- Returns Numerical Output (0-3) to Classification Block\n",
    "model.add(Dense(4, activation='softmax'))\n",
    "##################################\n",
    "\n",
    "model.compile(optimizer='adam', loss='categorical_crossentropy', metrics=['accuracy'])"
   ]
  },
  {
   "cell_type": "code",
   "execution_count": null,
   "metadata": {},
   "outputs": [],
   "source": [
    "model.summary()"
   ]
  },
  {
   "cell_type": "code",
   "execution_count": null,
   "metadata": {},
   "outputs": [],
   "source": [
    "from keras.utils import plot_model\n",
    "plot_model(model)"
   ]
  }
 ],
 "metadata": {
  "kernelspec": {
   "display_name": "Python 3",
   "language": "python",
   "name": "python3"
  },
  "language_info": {
   "name": "python",
   "version": "3.9.0"
  }
 },
 "nbformat": 4,
 "nbformat_minor": 2
}
